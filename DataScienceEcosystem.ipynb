{
 "cells": [
  {
   "cell_type": "markdown",
   "id": "497dd8f9-630d-41ca-80b3-2b0d28840f02",
   "metadata": {},
   "source": [
    "# Data Science Tools and Ecosystem"
   ]
  },
  {
   "cell_type": "markdown",
   "id": "fbdcc55f-aa65-43c8-8072-e34a7d92b3c2",
   "metadata": {},
   "source": [
    "In this notebook, Data Science Tools and Ecosystem are summarized."
   ]
  },
  {
   "cell_type": "markdown",
   "id": "b2e08d04-63de-468a-a12b-4020fe77fb45",
   "metadata": {},
   "source": [
    "***Objectives:***\n",
    "+ List popular languages\n",
    "+ List common used libraries\n",
    "+ Set up data science tools table"
   ]
  },
  {
   "cell_type": "markdown",
   "id": "9fe4dce8-ada9-4a68-bdd3-1a043a6ea7be",
   "metadata": {},
   "source": [
    "Some of the popular languages that Data Scientists use are:\n",
    "\n",
    "1. First Python\n",
    "2. Second R Language\n",
    "3. Third SQL"
   ]
  },
  {
   "cell_type": "markdown",
   "id": "1730551d-802f-4cd4-83e8-3a182b7ce706",
   "metadata": {},
   "source": [
    "Some of the commonly used libraries used by Data Scientists include:\n",
    "\n",
    "1. First Pandas\n",
    "2. Second Numpy\n",
    "3. Third Matplotlib"
   ]
  },
  {
   "cell_type": "markdown",
   "id": "caaf9f94-575f-419f-a0f6-71ade8ff3f8e",
   "metadata": {},
   "source": [
    "\n",
    "|Data Science Tools|\n",
    "--------------------\n",
    "|Jupyter Notebook|\n",
    "|Tableu|\n",
    "|MS Azure|"
   ]
  },
  {
   "cell_type": "markdown",
   "id": "6f213c5a-b74f-4b1f-8b26-ab1c95ae60cc",
   "metadata": {},
   "source": [
    "### Below are a few examples of evaluating arithmetic expressions in Python.\n",
    "2+3=5\n",
    "\r\n"
   ]
  },
  {
   "cell_type": "code",
   "execution_count": 49,
   "id": "31300377-ce50-4387-97a8-f5396f8f61a7",
   "metadata": {},
   "outputs": [
    {
     "data": {
      "text/plain": [
       "17"
      ]
     },
     "execution_count": 49,
     "metadata": {},
     "output_type": "execute_result"
    }
   ],
   "source": [
    "#This a simple arithmetic expression to mutiply then add integers.\n",
    "(3*4)+5"
   ]
  },
  {
   "cell_type": "code",
   "execution_count": 51,
   "id": "05a33892-a8c4-406e-bdd6-428f16825be8",
   "metadata": {},
   "outputs": [
    {
     "data": {
      "text/plain": [
       "3.3333333333333335"
      ]
     },
     "execution_count": 51,
     "metadata": {},
     "output_type": "execute_result"
    }
   ],
   "source": [
    "#This will convert 200 minutes to hours by diving by 60\n",
    "(200/60)"
   ]
  },
  {
   "cell_type": "markdown",
   "id": "feb844e0-3e25-4569-906a-2df7307df843",
   "metadata": {},
   "source": [
    "## Author\n",
    "Aamir Amin"
   ]
  },
  {
   "cell_type": "code",
   "execution_count": null,
   "id": "d9e52834-6eb0-44c8-aec9-41c895b819fe",
   "metadata": {},
   "outputs": [],
   "source": []
  }
 ],
 "metadata": {
  "kernelspec": {
   "display_name": "Python 3 (ipykernel)",
   "language": "python",
   "name": "python3"
  },
  "language_info": {
   "codemirror_mode": {
    "name": "ipython",
    "version": 3
   },
   "file_extension": ".py",
   "mimetype": "text/x-python",
   "name": "python",
   "nbconvert_exporter": "python",
   "pygments_lexer": "ipython3",
   "version": "3.12.4"
  }
 },
 "nbformat": 4,
 "nbformat_minor": 5
}
